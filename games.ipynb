{
 "cells": [
  {
   "cell_type": "code",
   "execution_count": null,
   "id": "d6ad5349",
   "metadata": {},
   "outputs": [],
   "source": [
    "if i%2 ==0:\n",
    "    print(\"its an even number\")\n",
    "    if i==2:\n",
    "        print(\"its a pair dear\")\n",
    "    elif i ==4:\n",
    "        print(\"Im sure its sides of a square\")\n",
    "    elif i == 6:\n",
    "        print(\"its inverted 9, I m damn sure\")\n",
    "    else:\n",
    "        print(\"Arms of an octopus\")\n",
    "else:\n",
    "    print(\"oh yeah an odd number\")\n",
    "    if i==1:\n",
    "        print(\"unity!!!!\")\n",
    "    elif i ==3:\n",
    "        print(\"a triplet\")\n",
    "    elif i ==5:\n",
    "        print(\"Pentagon\")\n",
    "    elif i ==7:\n",
    "        print(\"wonders of the world\")\n",
    "    else:\n",
    "        print(\"Navratri\")"
   ]
  },
  {
   "cell_type": "code",
   "execution_count": null,
   "id": "d5b90769",
   "metadata": {},
   "outputs": [],
   "source": [
    "i = int(input(\"please enter any number from 1 to 9: \"))"
   ]
  },
  {
   "cell_type": "code",
   "execution_count": null,
   "id": "18070a55",
   "metadata": {},
   "outputs": [],
   "source": [
    "## Akinator\n",
    "\n"
   ]
  },
  {
   "cell_type": "code",
   "execution_count": null,
   "id": "75765cab",
   "metadata": {},
   "outputs": [],
   "source": [
    "indian = [\"chhori\", \"DYBBUK\", \"chehre\", \"Arjun Reddy\", \"kali kuhi\", \"taxiwala\"]\n",
    "\n",
    "foreign = [\"spiderman\", \"batman\", \"Annihilation\", \"Interstellar\",\"Tenet\"]"
   ]
  },
  {
   "cell_type": "code",
   "execution_count": 1,
   "id": "35698fc2",
   "metadata": {},
   "outputs": [
    {
     "name": "stdout",
     "output_type": "stream",
     "text": [
      "Is ur movie indian :no\n"
     ]
    }
   ],
   "source": [
    "r = input(\"Is ur movie indian :\")\n"
   ]
  },
  {
   "cell_type": "code",
   "execution_count": 4,
   "id": "84a5d32d",
   "metadata": {},
   "outputs": [
    {
     "name": "stdout",
     "output_type": "stream",
     "text": [
      "you chose a hollywood movie\n",
      "did you think of a scifi film ?no\n",
      "You thought of a dc movie...\n",
      "does your character wear a red dress??no\n",
      "batman\n"
     ]
    }
   ],
   "source": [
    "if r == \"yes\":\n",
    "    print(\"You chose an indian movie\")\n",
    "    q = input(\"is ur movie related to blackmagic :\")\n",
    "    if q == \"yes\":\n",
    "        m = input(\"is your movie associated with imraan hashmi? \")\n",
    "        if m == \"yes\":\n",
    "            print(\"your movie is DYYBUK\")\n",
    "            \n",
    "            \n",
    "        else:\n",
    "            u = input(\"Is your heroine from AKash vani\")\n",
    "            if u ==\"yes\":\n",
    "                print(\"Your movie was Chhhoriii\")\n",
    "            else:\n",
    "                print(\"Movie was kaali khuhi\")\n",
    "       \n",
    "        \n",
    "        \n",
    "    else:\n",
    "        p = input(\"Did amitabh bachchan play any role?  \")\n",
    "        if p ==\"yes\":\n",
    "            print(\"Movie is Chehre\")\n",
    "            \n",
    "        else:\n",
    "            print(\"\\nyour movie is by vijay devarakonda\")\n",
    "            b = input(\"is rebirth associated with ur movie : \")\n",
    "            if b ==\"yes\":\n",
    "                print(\"Movie is taxiwala\")\n",
    "            else:\n",
    "                print(\"Arjun reddy\")\n",
    "        \n",
    "    \n",
    "elif r == \"no\":\n",
    "    print(\"you chose a hollywood movie\")\n",
    "    h = input(\"did you think of a scifi film ?\")\n",
    "    if h ==\"yes\":\n",
    "        p = input(\"is ur movie's name a palindrome ?\")\n",
    "        if p ==\"yes\":\n",
    "            print(\"Tenet\")\n",
    "            \n",
    "        else:\n",
    "            t = input(\"Does your character go into space\")\n",
    "            if t == \"yes\":\n",
    "                print(\"Interstellar movie with 5d discovery\")\n",
    "            else:\n",
    "                print(\"A movie full of shimmer... annihilation\")\n",
    "            \n",
    "        \n",
    "    else:\n",
    "        print(\"You thought of a dc movie...\")\n",
    "        s = input(\"does your character wear a red dress??\")\n",
    "        if s ==\"yes\":\n",
    "            print(\"spiderman\")\n",
    "        else:\n",
    "            print(\"batman\")\n",
    "    \n",
    "    \n",
    "else:\n",
    "    print(\"choose again\")\n",
    "\n",
    "    \n",
    "    \n",
    "    "
   ]
  },
  {
   "cell_type": "code",
   "execution_count": null,
   "id": "96f4da27",
   "metadata": {},
   "outputs": [],
   "source": []
  }
 ],
 "metadata": {
  "kernelspec": {
   "display_name": "Python 3 (ipykernel)",
   "language": "python",
   "name": "python3"
  },
  "language_info": {
   "codemirror_mode": {
    "name": "ipython",
    "version": 3
   },
   "file_extension": ".py",
   "mimetype": "text/x-python",
   "name": "python",
   "nbconvert_exporter": "python",
   "pygments_lexer": "ipython3",
   "version": "3.9.7"
  }
 },
 "nbformat": 4,
 "nbformat_minor": 5
}
